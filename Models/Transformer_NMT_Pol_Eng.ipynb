{
  "nbformat": 4,
  "nbformat_minor": 0,
  "metadata": {
    "colab": {
      "name": "Transformer-NMT-en-es.ipynb",
      "provenance": [],
      "collapsed_sections": [],
      "machine_shape": "hm"
    },
    "kernelspec": {
      "name": "python3",
      "display_name": "Python 3"
    }
  },
  "cells": [
    {
      "cell_type": "markdown",
      "metadata": {
        "id": "m9JJ7FBw84tG"
      },
      "source": [
        "# Attention is all you need: Discovering the Transformer model\n",
        "\n",
        "# Neural machine traslation using a Transformer model\n",
        "\n",
        "In this notebook we will describe and demystify the relevant artifacts in the paper \"Attention is all you need\" (Vaswani, Ashish & Shazeer, Noam & Parmar, Niki & Uszkoreit, Jakob & Jones, Llion & Gomez, Aidan & Kaiser, Lukasz & Polosukhin, Illia. (2017)). This paper was a more advanced step in the use of the attention mechanism being the main basis for a model called Transformer. The most famous current models that are emerging in NLP tasks consist of dozens of transformers or some of their variants, for example, GPT-3 or BERT.\n",
        "\n",
        "Attention is all you need: https://arxiv.org/pdf/1706.03762.pdf\n",
        "\n",
        "We will describe the components of this model, analyze their operation and build a simple model that we will apply to a small-scale NMT problem (Neural Machine Translation). To read more about the problem that we will address and to know how the basic attention mechanism works, I recommend you to read my previous  post [ \"A Guide on the Encoder-Decoder Model and the Attention Mechanism\"](https://medium.com/better-programming/a-guide-on-the-encoder-decoder-model-and-the-attention-mechanism-401c836e2cdb) and check the [ repository](https://github.com/edumunozsala/NMT-encoder-decoder-Attention)."
      ]
    },
    {
      "cell_type": "markdown",
      "metadata": {
        "id": "822Yvg8KVyR9"
      },
      "source": [
        "![Alt](images/transformer.jpg \"title Picture by Vinson Tan from Pixabay\")\n",
        "\n",
        "## Why we need Transformer?\n",
        "\n",
        "In sequence-to-sequence treatment problems such as the neural machine translation, the initial proposals were based on the use of RNNs in an encoder-decoder architecture. These architectures presented a great limitation when working with long sequences, their ability to retain information from the first elements was lost when new elements were incorporated into the sequence. In the encoder, the hidden state in every step is associated with a certain word in the input sentence, the more recent. Therefore, if the decoder only accesses the last hidden state of the decoder, it will lose relevant information about the first elements of the sequence. Then to deal with this limitation, a new concept were introduced **the attention mechanism**.\n",
        "\n",
        "Instead of paying attention to the last state of the encoder as is usually done with the RNNs, in each step of the decoder we look at all the states of the encoder, being able to access information about all the elements of the input sequence. This is what attention does, it extracts information from the whole sequence, a weighted sum of all the past encoder states. This allows the decoder to assign greater weight or importance to a certain element of the input for each element of the output. Learning in every step to focus in the right element of the input to predict the next output element.\n",
        "\n",
        "But this approach continues to have an important limitation, each sequence must be treated one at a time. Both the encoder and the decoder have to wait till the completion of t-1 steps to process at 't'th step. So when dealing with huge corpus **it is very time consuming and computationally inefficient**."
      ]
    },
    {
      "cell_type": "markdown",
      "metadata": {
        "id": "fN7pJARIt9uK"
      },
      "source": [
        "# Loading the libraries"
      ]
    },
    {
      "cell_type": "markdown",
      "metadata": {
        "id": "t5DbIHC-F6Hf"
      },
      "source": [
        "Load and install, if necessary, the python libraries we will use along this notebook. We force to import Tensorflow version 2, if it is available."
      ]
    },
    {
      "cell_type": "code",
      "metadata": {
        "id": "ZbcvtPlp3YWu"
      },
      "source": [
        "\n",
        "import os\n",
        "import gc\n",
        "import time\n",
        "import re\n",
        "import unicodedata\n",
        "\n",
        "import pandas as pd\n",
        "import numpy as np\n",
        "import matplotlib.pyplot as plt\n",
        "%matplotlib inline \n",
        "\n",
        "from google.colab import drive"
      ],
      "execution_count": null,
      "outputs": []
    },
    {
      "cell_type": "code",
      "metadata": {
        "id": "P6o_cpZz3y_-"
      },
      "source": [
        "try:\n",
        "    %tensorflow_version 2.x\n",
        "except:\n",
        "    pass\n",
        "import tensorflow as tf\n",
        "\n",
        "from tensorflow.keras import layers\n",
        "from tensorflow.keras import backend as K\n",
        "import tensorflow_datasets as tfds\n",
        "\n",
        "from keras.preprocessing.text import Tokenizer\n",
        "from keras.preprocessing.sequence import pad_sequences"
      ],
      "execution_count": null,
      "outputs": []
    },
    {
      "cell_type": "markdown",
      "metadata": {
        "id": "bqyCyv2b5iif"
      },
      "source": [
        "Setting some parameters and hyperparameters for our model"
      ]
    },
    {
      "cell_type": "code",
      "metadata": {
        "colab": {
          "base_uri": "https://localhost:8080/"
        },
        "id": "hV1LgPtWIV6f",
        "outputId": "75b3c602-6527-49df-b43e-2e01eba9a362"
      },
      "source": [
        "from google.colab import drive\n",
        "drive.mount('/content/drive')"
      ],
      "execution_count": null,
      "outputs": [
        {
          "output_type": "stream",
          "text": [
            "Drive already mounted at /content/drive; to attempt to forcibly remount, call drive.mount(\"/content/drive\", force_remount=True).\n"
          ],
          "name": "stdout"
        }
      ]
    },
    {
      "cell_type": "code",
      "metadata": {
        "id": "rTr3QS6_5tBO"
      },
      "source": [
        "# Parameters for our model\n",
        "INPUT_COLUMN = 'input'\n",
        "TARGET_COLUMN = 'target'\n",
        "NUM_SAMPLES = 40450 #40000\n",
        "MAX_VOCAB_SIZE = 2**14\n",
        "\n",
        "BATCH_SIZE = 64  # Batch size for training.\n",
        "EPOCHS = 30  # Number of epochs to train for.\n",
        "MAX_LENGTH = 50\n",
        "\n",
        "# Global parameters\n",
        "root_folder='/content'\n",
        "data_folder_name='drive/MyDrive'\n",
        "checkpoint_folder = \"My Drive/Projects/Transformer_NMT/ckpt/\"\n",
        "train_filename='pol.txt'\n",
        "\n",
        "# Variable for data directory\n",
        "DATA_PATH = os.path.abspath(os.path.join(root_folder, data_folder_name))\n",
        "train_filenamepath = os.path.abspath(os.path.join(DATA_PATH, train_filename))\n",
        "checkpoint_path = os.path.abspath(os.path.join(root_folder, checkpoint_folder))\n",
        "\n",
        "# Both train and test set are in the root data directory\n",
        "train_path = DATA_PATH\n"
      ],
      "execution_count": null,
      "outputs": []
    },
    {
      "cell_type": "markdown",
      "metadata": {
        "id": "BQN8jwx48_yU"
      },
      "source": [
        "# The dataset and text processing\n",
        "\n",
        "For this exercise we will use pairs of simple sentences, the source in English and target in Spanish, from the Tatoeba project where people contribute adding translations every day. This is the [link](http://www.manythings.org/anki/) to some traslations in different languages. There you can download the Spanish - English spa_eng.zip file, it contains 124457 pairs of sentences.\n",
        "\n",
        "We use a list of **non breaking prefixes** to avoid the tokenizer to split or break words including that prefixes. Inm our example we do not want to remove some the dot for some well-konw words.You can find non breaking prefixes for many languages in the Kaggle website: \n",
        "\n",
        "https://www.kaggle.com/nltkdata/nonbreaking-prefixes/activity\n",
        "\n",
        "\n",
        "The text sentences are almost clean, they are simple plain text, so we only need to remove dots that are not a end of sentence symbol and duplicated white spaces. \n",
        "\n",
        "The following functions will apply the cleaning mentioned previously:\n"
      ]
    },
    {
      "cell_type": "code",
      "metadata": {
        "id": "xnomPENWc3gD"
      },
      "source": [
        "def preprocess_text_nonbreaking(corpus, non_breaking_prefixes):\n",
        "  corpus_cleaned = corpus\n",
        "  # Add the string $$$ before the non breaking prefixes\n",
        "  # To avoid remove dots from some words\n",
        "  for prefix in non_breaking_prefixes:\n",
        "    corpus_cleaned = corpus_cleaned.replace(prefix, prefix + '$$$')\n",
        "  # Remove dots not at the end of a sentence\n",
        "  corpus_cleaned = re.sub(r\"\\.(?=[0-9]|[a-z]|[A-Z])\", \".$$$\", corpus_cleaned)\n",
        "  # Remove the $$$ mark\n",
        "  corpus_cleaned = re.sub(r\"\\.\\$\\$\\$\", '', corpus_cleaned)\n",
        "  # Rmove multiple white spaces\n",
        "  corpus_cleaned = re.sub(r\"  +\", \" \", corpus_cleaned)\n",
        "\n",
        "  return corpus_cleaned\n"
      ],
      "execution_count": null,
      "outputs": []
    },
    {
      "cell_type": "markdown",
      "metadata": {
        "id": "bPlOT-2mlw0r"
      },
      "source": [
        "## Loading the dataset"
      ]
    },
    {
      "cell_type": "markdown",
      "metadata": {
        "id": "dCD9jwXsLwS_"
      },
      "source": [
        "Mount our Google Drive unit to access the datafiles from the notebook"
      ]
    },
    {
      "cell_type": "markdown",
      "metadata": {
        "id": "7Bf2mfHHbqGK"
      },
      "source": [
        "Loading the list of non breaking prefixes for the english and the spanish sentences"
      ]
    },
    {
      "cell_type": "code",
      "metadata": {
        "id": "fjKW8DnObtvl"
      },
      "source": [
        "with open(DATA_PATH+\"/nonbreaking_prefix.en\", \n",
        "          mode = \"r\", encoding = \"utf-8\") as f:\n",
        "    non_breaking_prefix_en = f.read()\n",
        "with open(DATA_PATH+\"/nonbreaking_prefix.pl\", \n",
        "          mode = \"r\", encoding = \"utf-8\") as f:\n",
        "    non_breaking_prefix_es = f.read()\n",
        "\n",
        "non_breaking_prefix_en = non_breaking_prefix_en.split(\"\\n\")\n",
        "non_breaking_prefix_en = [' ' + pref + '.' for pref in non_breaking_prefix_en]\n",
        "non_breaking_prefix_es = non_breaking_prefix_es.split(\"\\n\")\n",
        "non_breaking_prefix_es = [' ' + pref + '.' for pref in non_breaking_prefix_es]"
      ],
      "execution_count": null,
      "outputs": []
    },
    {
      "cell_type": "markdown",
      "metadata": {
        "id": "gdgqJNZc63nk"
      },
      "source": [
        "Load the dataset into a pandas dataframe and apply the preprocess function to the input and target columns."
      ]
    },
    {
      "cell_type": "code",
      "metadata": {
        "id": "0G8Wa9FBdy5Y",
        "colab": {
          "base_uri": "https://localhost:8080/"
        },
        "outputId": "be43c79b-ff97-44a4-cd7a-c4d471c8bfac"
      },
      "source": [
        "from sklearn.model_selection import train_test_split\n",
        "# Load the dataset: sentence in english, sentence in spanish \n",
        "df=pd.read_csv(train_filenamepath, sep=\"\\t\", header=None, names=[TARGET_COLUMN,INPUT_COLUMN], usecols=[0,1], \n",
        "               nrows=NUM_SAMPLES)\n",
        "# Preprocess the input data\n",
        "input_data=df[INPUT_COLUMN].apply(lambda x : preprocess_text_nonbreaking(x, non_breaking_prefix_es)).tolist()\n",
        "# Preprocess and include the end of sentence token to the target text\n",
        "target_data=df[TARGET_COLUMN].apply(lambda x : preprocess_text_nonbreaking(x, non_breaking_prefix_en)).tolist()\n",
        "input_data, input_data_val, target_data, target_data_val = train_test_split(input_data, target_data, test_size=0.01, random_state = 101)\n",
        "\n",
        "print('Number of sentences: ',len(input_data))\n",
        "print(input_data[:5])\n",
        "print(target_data[:5])"
      ],
      "execution_count": null,
      "outputs": [
        {
          "output_type": "stream",
          "text": [
            "Number of sentences:  40045\n",
            "['Chcę podjąć to, co robiłem, zanim mi przerwałeś.', 'Ćwicz dalej.', 'Czy nie grasz w tenisa?', 'Tom nie jest tu szczęśliwy. Nie widzisz tego?', 'Cokolwiek się stanie Tomowi, to jest jego wina, nie twoja.']\n",
            "['I want to go back to doing what I was doing before you interrupted me.', 'Keep practicing.', \"Don't you play tennis?\", \"Tom isn't happy here. Can't you see that?\", 'Whatever happens to Tom is his fault, not yours.']\n"
          ],
          "name": "stdout"
        }
      ]
    },
    {
      "cell_type": "code",
      "metadata": {
        "id": "TMAFFdpIyNZd",
        "colab": {
          "base_uri": "https://localhost:8080/"
        },
        "outputId": "85c0cefb-9433-42c5-a270-6e5a65b412dc"
      },
      "source": [
        "#Delete the dataframe and release the memory (if it is possible)\n",
        "del df\n",
        "gc.collect()"
      ],
      "execution_count": null,
      "outputs": [
        {
          "output_type": "execute_result",
          "data": {
            "text/plain": [
              "50"
            ]
          },
          "metadata": {
            "tags": []
          },
          "execution_count": 10
        }
      ]
    },
    {
      "cell_type": "code",
      "metadata": {
        "id": "4kOLQ7FboNIF"
      },
      "source": [
        "def subword_tokenize(corpus, vocab_size, max_length):\n",
        "  # Create the vocabulary using Subword tokenization\n",
        "  tokenizer_corpus = tfds.deprecated.text.SubwordTextEncoder.build_from_corpus(\n",
        "    corpus, target_vocab_size=vocab_size)\n",
        "  # Get the final vocab size, adding the eos and sos tokens\n",
        "  num_words = tokenizer_corpus.vocab_size + 2\n",
        "  # Set eos and sos token\n",
        "  sos_token = [num_words-2]\n",
        "  eos_token = [num_words-1]\n",
        "  # Tokenize the corpus\n",
        "  sentences = [sos_token + tokenizer_corpus.encode(sentence) + eos_token\n",
        "          for sentence in corpus]\n",
        "  # Identify the index of the sentences longer than max length\n",
        "  idx_to_remove = [count for count, sent in enumerate(sentences)\n",
        "                 if len(sent) > max_length]\n",
        "  #Pad the sentences\n",
        "  sentences = tf.keras.preprocessing.sequence.pad_sequences(sentences,\n",
        "                                                       value=0,\n",
        "                                                       padding='post',\n",
        "                                                       maxlen=max_length)\n",
        "  \n",
        "  return sentences, tokenizer_corpus, num_words, sos_token, eos_token, idx_to_remove"
      ],
      "execution_count": null,
      "outputs": []
    },
    {
      "cell_type": "markdown",
      "metadata": {
        "id": "TEFw0D2vP_Dl"
      },
      "source": [
        "# Tokenize the text data\n",
        "\n",
        "Next, let's see how to prepare the data for our model. It is very simple and the steps are the following:\n",
        "\n",
        "- Create the vocabulary from the corpus using Subword tokenization, breaking words into “subword units” - strings of characters like ing or eau - that allow the downstream model to make intelligent decisions on words it doesn’t recognize.\n",
        "- Calculate the maximum length of the input and output sequences.\n",
        "- Tokenize the data, convert the raw text into a sequence of integers. Once we define the vocabulary, we use the encode method to get the token for every word in the corpus.\n",
        "- Remove sentences longer that the max length defined.\n",
        "- Padding the sentences: we need to pad zeros at the end of the sequences so that all sequences have the same length. Otherwise, we won't be able train the model on batches"
      ]
    },
    {
      "cell_type": "code",
      "metadata": {
        "id": "onrwROJrquij"
      },
      "source": [
        "# Tokenize and pad the input sequences\n",
        "encoder_inputs, tokenizer_inputs, num_words_inputs, sos_token_input, eos_token_input, del_idx_inputs= subword_tokenize(input_data, \n",
        "                                                                                                        MAX_VOCAB_SIZE, MAX_LENGTH)\n",
        "# Tokenize and pad the outputs sequences\n",
        "decoder_outputs, tokenizer_outputs, num_words_output, sos_token_output, eos_token_output, del_idx_outputs = subword_tokenize(target_data, \n",
        "                                                                                                        MAX_VOCAB_SIZE, MAX_LENGTH)\n",
        "\n"
      ],
      "execution_count": null,
      "outputs": []
    },
    {
      "cell_type": "code",
      "metadata": {
        "id": "gYtibBaqsAxA",
        "colab": {
          "base_uri": "https://localhost:8080/"
        },
        "outputId": "c37a43de-bcd1-4935-e507-a54c62f73680"
      },
      "source": [
        "# Check the tokenize function\n",
        "print(encoder_inputs[:5], sos_token_input, eos_token_input)\n",
        "print(decoder_outputs[:5], sos_token_output, eos_token_output)"
      ],
      "execution_count": null,
      "outputs": [
        {
          "output_type": "stream",
          "text": [
            "[[16257    94  2264    49     1    17  8452     1   439    18  8572   365\n",
            "  16047 16258     0     0     0     0     0     0     0     0     0     0\n",
            "      0     0     0     0     0     0     0     0     0     0     0     0\n",
            "      0     0     0     0     0     0     0     0     0     0     0     0\n",
            "      0     0]\n",
            " [16257 16197 16135 11453 16033   634 16047 16258     0     0     0     0\n",
            "      0     0     0     0     0     0     0     0     0     0     0     0\n",
            "      0     0     0     0     0     0     0     0     0     0     0     0\n",
            "      0     0     0     0     0     0     0     0     0     0     0     0\n",
            "      0     0]\n",
            " [16257    15     3  2583     7   363 16064 16258     0     0     0     0\n",
            "      0     0     0     0     0     0     0     0     0     0     0     0\n",
            "      0     0     0     0     0     0     0     0     0     0     0     0\n",
            "      0     0     0     0     0     0     0     0     0     0     0     0\n",
            "      0     0]\n",
            " [16257     2     3     5    41   456   112     6  4868   127 16064 16258\n",
            "      0     0     0     0     0     0     0     0     0     0     0     0\n",
            "      0     0     0     0     0     0     0     0     0     0     0     0\n",
            "      0     0     0     0     0     0     0     0     0     0     0     0\n",
            "      0     0]\n",
            " [16257  5761     4   336   126     1    10     5    89   645     1     3\n",
            "   4104 16047 16258     0     0     0     0     0     0     0     0     0\n",
            "      0     0     0     0     0     0     0     0     0     0     0     0\n",
            "      0     0     0     0     0     0     0     0     0     0     0     0\n",
            "      0     0]] [16257] [16258]\n",
            "[[12481     1    37     2    61   159     2   211    48     1    13   211\n",
            "    237     6  6052    49 12271 12482     0     0     0     0     0     0\n",
            "      0     0     0     0     0     0     0     0     0     0     0     0\n",
            "      0     0     0     0     0     0     0     0     0     0     0     0\n",
            "      0     0]\n",
            " [12481   457  8505 12271 12482     0     0     0     0     0     0     0\n",
            "      0     0     0     0     0     0     0     0     0     0     0     0\n",
            "      0     0     0     0     0     0     0     0     0     0     0     0\n",
            "      0     0     0     0     0     0     0     0     0     0     0     0\n",
            "      0     0]\n",
            " [12481    89 12264     5     6   200   611 12288 12482     0     0     0\n",
            "      0     0     0     0     0     0     0     0     0     0     0     0\n",
            "      0     0     0     0     0     0     0     0     0     0     0     0\n",
            "      0     0     0     0     0     0     0     0     0     0     0     0\n",
            "      0     0]\n",
            " [12481     3   132 12264     5   435    78   146  1159 12264     5     6\n",
            "     96    59 12288 12482     0     0     0     0     0     0     0     0\n",
            "      0     0     0     0     0     0     0     0     0     0     0     0\n",
            "      0     0     0     0     0     0     0     0     0     0     0     0\n",
            "      0     0]\n",
            " [12481  2781  1882     2     3     8    40   971    12    35   740 12271\n",
            "  12482     0     0     0     0     0     0     0     0     0     0     0\n",
            "      0     0     0     0     0     0     0     0     0     0     0     0\n",
            "      0     0     0     0     0     0     0     0     0     0     0     0\n",
            "      0     0]] [12481] [12482]\n"
          ],
          "name": "stdout"
        }
      ]
    },
    {
      "cell_type": "code",
      "metadata": {
        "id": "VF4l2stYEu2l",
        "colab": {
          "base_uri": "https://localhost:8080/"
        },
        "outputId": "2dd0e7d5-eba6-4606-96c3-fa2cd8fc312f"
      },
      "source": [
        "print('Size of Input Vocabulary: ', num_words_inputs)\n",
        "print('Size of Output Vocabulary: ', num_words_output)"
      ],
      "execution_count": null,
      "outputs": [
        {
          "output_type": "stream",
          "text": [
            "Size of Input Vocabulary:  16259\n",
            "Size of Output Vocabulary:  12483\n"
          ],
          "name": "stdout"
        }
      ]
    },
    {
      "cell_type": "markdown",
      "metadata": {
        "id": "Ypm8h5aZQTZ1"
      },
      "source": [
        "# Create the batch data generator"
      ]
    },
    {
      "cell_type": "markdown",
      "metadata": {
        "id": "9FP0WPsdM8hl"
      },
      "source": [
        "- Create a batch data generator: we want to train the model on batches, group of sentences, so we need to create a Dataset using the tf.data library and the function batch_on_slices on the input and output sequences."
      ]
    },
    {
      "cell_type": "code",
      "metadata": {
        "id": "wFxMp3TOIYff"
      },
      "source": [
        "# Define a dataset \n",
        "dataset = tf.data.Dataset.from_tensor_slices(\n",
        "    (encoder_inputs, decoder_outputs))\n",
        "dataset = dataset.shuffle(len(input_data), reshuffle_each_iteration=True).batch(\n",
        "    BATCH_SIZE, drop_remainder=True)\n",
        "\n",
        "dataset = dataset.prefetch(tf.data.experimental.AUTOTUNE)"
      ],
      "execution_count": null,
      "outputs": []
    },
    {
      "cell_type": "markdown",
      "metadata": {
        "id": "ycT0YqydRcUd"
      },
      "source": [
        "# Building a Transformer"
      ]
    },
    {
      "cell_type": "markdown",
      "metadata": {
        "id": "Y-iKViHeWz20"
      },
      "source": [
        "## What is Transformer?\n",
        "*\"In this work we propose the Transformer, a model architecture eschewing recurrence and instead relying entirely on an attention mechanism to draw global dependencies between input and output. The Transformer allows for significantly more parallelization … the Transformer is the first transduction model relying entirely on self-attention to compute representations of its input and output without using sequence-aligned RNNs or convolution.\"*\n",
        "\n",
        "\"Attention is all you need\" paper\n",
        "\n",
        "The Transformer model extract  features for each word using a self-attention mechanism to figure out how important all the other words in the sentence are w.r.t. to the aforementioned word. And no recurrent units are used to obtain this features, they are just weighted sum and activations, so they can be very parallelizable and efficient.\n",
        "\n",
        "But We will dive deeper to understand what all this means."
      ]
    },
    {
      "cell_type": "markdown",
      "metadata": {
        "id": "lcw8YIQqRhOJ"
      },
      "source": [
        "# Self-attention: the fundamental operation\n",
        "\n",
        "*\"Self-attention is a sequence-to-sequence operation: a sequence of vectors goes in, and a sequence of vectors comes out. Let's call the input vectors 𝐱1,𝐱2,…𝐱t and the corresponding output vectors 𝐲1,𝐲2,…,𝐲t. The vectors all have dimension k. To produce output vector 𝐲i, the self attention operation simply takes a weighted average over all the input vectors, the simplest option is the dot product.\"*\n",
        "\n",
        "**Transformers from scratch by Peter Bloem**\n",
        "\n",
        "In the self-attention mechanism of our model we need to introduce three elements: Queries, Values and Keys\n",
        "\n"
      ]
    },
    {
      "cell_type": "markdown",
      "metadata": {
        "id": "UBlUGBq9eFKx"
      },
      "source": [
        "## Queries, Keys and Values\n",
        "Every input vector is used in three different ways in the self-attention mechanism: the Query, the Key and the Value. In every role, it is compared to the others vectors to get its own output yi (Query), to get the j-th output yj (Key) and to compute each output vector once the weights have been established (Value).\n",
        "\n",
        "To obtain this roles, we need three weight matrices of dimensions k x k and compute three linear transformation for each xi:\n",
        "\n",
        "![Alt](images/query_key_value.png \"title \"Transformers from scratch\" by Peter Bloem\")\n",
        "\n",
        "These three matrices are usually known as K, Q and V, three learnable weight layers that are applied to the same encoded input. Consequently, as each of these three matrices come from the same input, we can apply the attention mechanism of the input vector with itself, a \"self-attention\".\n"
      ]
    },
    {
      "cell_type": "markdown",
      "metadata": {
        "id": "3sffhwwvX-wj"
      },
      "source": [
        "## Scale dot-product Attention\n",
        "\n",
        "*The input consists of queries and keys of dimension dk, and values of dimension dv. We compute the dot products of the query with all keys, divide each by the square root of dk, and apply a softmax function to obtain the weights on the values.*\n",
        "\n",
        "\"Attention is all you need\" paper\n",
        "\n",
        "Then we use the Q, K and V matrices to calculate the attention scores. **The scores measure how much focus to place on other places or words of the input sequence w.r.t a word at a certain position**. That is, the dot product of the query vector with the key vector of the respective word we're scoring. So, for position 1 we calculate the dot product (.) of q1 and k1, then q1 . k2, q1 . k3,… \n",
        "\n",
        "Next we apply the \"scaled\" factor to have more stable gradients. The softmax function can not work properly with large values, resulting in vanishing the gradient and slow down the learning. After \"softmaxing\" we multiply by the Value matrix to keep the values of the words we want to focus on and minimizing or removing the values for the irrelevant words (its value in V matrix should be very small).\n",
        "\n",
        "The formula for these operations is:\n",
        "\n",
        "$Attention(Q, K, V ) = \\text{softmax}\\left(\\dfrac{QK^T}{\\sqrt{d_k}}\\right)V $\n"
      ]
    },
    {
      "cell_type": "code",
      "metadata": {
        "id": "2rEoCNJURbrT"
      },
      "source": [
        "def scaled_dot_product_attention(queries, keys, values, mask):\n",
        "    # Calculate the dot product, QK_transpose\n",
        "    product = tf.matmul(queries, keys, transpose_b=True)\n",
        "    # Get the scale factor\n",
        "    keys_dim = tf.cast(tf.shape(keys)[-1], tf.float32)\n",
        "    # Apply the scale factor to the dot product\n",
        "    scaled_product = product / tf.math.sqrt(keys_dim)\n",
        "    # Apply masking when it is requiered\n",
        "    if mask is not None:\n",
        "        scaled_product += (mask * -1e9)\n",
        "    # dot product with Values\n",
        "    attention = tf.matmul(tf.nn.softmax(scaled_product, axis=-1), values)\n",
        "    \n",
        "    return attention"
      ],
      "execution_count": null,
      "outputs": []
    },
    {
      "cell_type": "markdown",
      "metadata": {
        "id": "-MjtvXrfYEx7"
      },
      "source": [
        "## Multi-Head Attention\n",
        "\n",
        "In the previous description the attention scores are focused on the whole sentence at a time, this would produce the same results even if two sentences contain the same words in a different order. Instead, we would like to attend to different segments of the words. We can give the self attention greater power of discrimination, **by combining several self attention heads**, dividing the words vectors into a fixed number (h, number of heads) of chunks, and then self-attention is applied on the corresponding chunks, using Q, K and V sub-matrices. \n",
        "\n",
        "This produce h different output matrices of scores.\n",
        "\n",
        "![Alt](images/dor_product_multihead.PNG \"title From \"Attention is all you need\" paper by Vaswani, et al., 2017\")\n",
        "\n",
        "But the next layer (the Feed-Forward layer) is expecting just one matrix, a vector for each word, so after calculating the dot product of every head, we concat the output matrices and multiply them by an additional weights matrix $W_O$. This final matrix captures information from all the attention heads.\n",
        "\n",
        "$MultihHead(Q, K, V ) = \\text{Concat}(head_1,...,head_n)W^O$\n",
        "\n",
        "where $head_i=Attention(QW_i^Q,QW_i^K,QW_i^V)$ and $i$ is the head index.\n"
      ]
    },
    {
      "cell_type": "code",
      "metadata": {
        "id": "lvq4I9uTX5p7"
      },
      "source": [
        "class MultiHeadAttention(layers.Layer):\n",
        "    \n",
        "    def __init__(self, n_heads):\n",
        "        super(MultiHeadAttention, self).__init__()\n",
        "        self.n_heads = n_heads\n",
        "        \n",
        "    def build(self, input_shape):\n",
        "        self.d_model = input_shape[-1]\n",
        "        assert self.d_model % self.n_heads == 0\n",
        "        # Calculate the dimension of every head or projection\n",
        "        self.d_head = self.d_model // self.n_heads\n",
        "        # Set the weight matrices for Q, K and V\n",
        "        self.query_lin = layers.Dense(units=self.d_model)\n",
        "        self.key_lin = layers.Dense(units=self.d_model)\n",
        "        self.value_lin = layers.Dense(units=self.d_model)\n",
        "        # Set the weight matrix for the output of the multi-head attention W0\n",
        "        self.final_lin = layers.Dense(units=self.d_model)\n",
        "        \n",
        "    def split_proj(self, inputs, batch_size): # inputs: (batch_size, seq_length, d_model)\n",
        "        # Set the dimension of the projections\n",
        "        shape = (batch_size,\n",
        "                 -1,\n",
        "                 self.n_heads,\n",
        "                 self.d_head)\n",
        "        # Split the input vectors\n",
        "        splited_inputs = tf.reshape(inputs, shape=shape) # (batch_size, seq_length, nb_proj, d_proj)\n",
        "        return tf.transpose(splited_inputs, perm=[0, 2, 1, 3]) # (batch_size, nb_proj, seq_length, d_proj)\n",
        "    \n",
        "    def call(self, queries, keys, values, mask):\n",
        "        # Get the batch size\n",
        "        batch_size = tf.shape(queries)[0]\n",
        "        # Set the Query, Key and Value matrices\n",
        "        queries = self.query_lin(queries)\n",
        "        keys = self.key_lin(keys)\n",
        "        values = self.value_lin(values)\n",
        "        # Split Q, K y V between the heads or projections\n",
        "        queries = self.split_proj(queries, batch_size)\n",
        "        keys = self.split_proj(keys, batch_size)\n",
        "        values = self.split_proj(values, batch_size)\n",
        "        # Apply the scaled dot product\n",
        "        attention = scaled_dot_product_attention(queries, keys, values, mask)\n",
        "        # Get the attention scores\n",
        "        attention = tf.transpose(attention, perm=[0, 2, 1, 3])\n",
        "        # Concat the h heads or projections\n",
        "        concat_attention = tf.reshape(attention,\n",
        "                                      shape=(batch_size, -1, self.d_model))\n",
        "        # Apply W0 to get the output of the multi-head attention\n",
        "        outputs = self.final_lin(concat_attention)\n",
        "        \n",
        "        return outputs"
      ],
      "execution_count": null,
      "outputs": []
    },
    {
      "cell_type": "markdown",
      "metadata": {
        "id": "-SBoH8G4XyR9"
      },
      "source": [
        "# Positional Encoding\n",
        "\n",
        "We mentioned briefly that the order of the words in the sentence is an issue to solve in this model, because the network and the self-attention mechanism is permutation invariant. If we shuffle up the words in the input sentence, we get the same solutions. We need to create a representation of the position of the word in the sentence and add it to the word embedding.\n",
        "\n",
        "*To this end, we add \"positional encodings\" to the input embeddings at the bottoms of the encoder and decoder stacks. The positional encodings have the same dimension as the embeddings, so that the two can be summed. There are many choices of positional encodings.*\n",
        "\n",
        "\"Attention is all you need\" paper\n",
        "\n",
        "So, we apply a function to map the position in the sentence to real valued vector. The network will learn how to use this information. Another approach would be to use a position embedding, similar to word embedding, coding every known position with a vector. It would requiere sentences of all accepted positions during training but positional encoding allow the model to extrapolate to sequence lengths longer than the ones encountered.\n",
        "\n",
        "In the paper a sinusoidal function is applied:"
      ]
    },
    {
      "cell_type": "markdown",
      "metadata": {
        "id": "7G9C3ucmJ86I"
      },
      "source": [
        "$PE_{(pos,2i)} =\\sin(pos/10000^{2i/dmodel})$\n",
        "\n",
        "$PE_{(pos,2i+1)} =\\cos(pos/10000^{2i/dmodel})$"
      ]
    },
    {
      "cell_type": "code",
      "metadata": {
        "id": "e2wc6sYlX0dr"
      },
      "source": [
        "class PositionalEncoding(layers.Layer):\n",
        "\n",
        "    def __init__(self):\n",
        "        super(PositionalEncoding, self).__init__()\n",
        "    \n",
        "    def get_angles(self, pos, i, d_model): # pos: (seq_length, 1) i: (1, d_model)\n",
        "        angles = 1 / np.power(10000., (2*(i//2)) / np.float32(d_model))\n",
        "        return pos * angles # (seq_length, d_model)\n",
        "\n",
        "    def call(self, inputs):\n",
        "        # input shape batch_size, seq_length, d_model\n",
        "        seq_length = inputs.shape.as_list()[-2]\n",
        "        d_model = inputs.shape.as_list()[-1]\n",
        "        # Calculate the angles given the input\n",
        "        angles = self.get_angles(np.arange(seq_length)[:, np.newaxis],\n",
        "                                 np.arange(d_model)[np.newaxis, :],\n",
        "                                 d_model)\n",
        "        # Calculate the positional encodings\n",
        "        angles[:, 0::2] = np.sin(angles[:, 0::2])\n",
        "        angles[:, 1::2] = np.cos(angles[:, 1::2])\n",
        "        # Expand the encodings with a new dimension\n",
        "        pos_encoding = angles[np.newaxis, ...]\n",
        "        \n",
        "        return inputs + tf.cast(pos_encoding, tf.float32)"
      ],
      "execution_count": null,
      "outputs": []
    },
    {
      "cell_type": "markdown",
      "metadata": {
        "id": "yiyuHe1OeT5N"
      },
      "source": [
        "# The Encoder\n",
        "\n",
        "Now that all the main pieces of the model have been described we can introduce the encoder components. \n",
        "\n",
        "- Positional encoding: Add the position encoding to the input embedding (our input words are transformed to embedding vectors). *\"The same weight matrix is shared between the two embedding layers (encoder and decoder) and the pre-softmax linear transformation. In the embedding layers, we multiply those weights by square root of the model dimension\"* [1], ${\\sqrt{d_{model}}}$.\n",
        "\n",
        "- N = 6, identical layers, containing two sub-layers: a **multi-head self-attention mechanism**, and a **fully connected feed-forward network**. This FC layer is applied to each position separately and identically and consists of two linear transformations with a ReLU activation in between. But it is applied position-wise to the input, which means that the same neural network is applied to every single \"token\" vector belonging to the sentence sequence.\n",
        "\n",
        "$$FFN(x)= max(0,xW_1+b_1)W_2+b_2$$\n",
        "\n",
        "- There is a residual connection around each sub-layer (attention and FC network) followed by a layer normalization.\n",
        "\n",
        "*Normalization and residual connections are standard tricks used to help deep neural networks train faster and more accurately. The layer normalization is applied over the embedding dimension only.*\n",
        "\n",
        "**Peter Bloem, \"Transformers from scratch\"**\n",
        "\n",
        "The next figure will show the components detailed:\n",
        "\n",
        "![Alt](images/encoder.PNG \"title \"The Ilustrated Transformer\" by Jay Alammar\")\n",
        "\n",
        "Keep in mind that **only the vector from the last layer (6-th) is sent to the decoder**."
      ]
    },
    {
      "cell_type": "code",
      "metadata": {
        "id": "UV0ZMH7KT_KZ"
      },
      "source": [
        "class EncoderLayer(layers.Layer):\n",
        "    \n",
        "    def __init__(self, FFN_units, n_heads, dropout_rate):\n",
        "        super(EncoderLayer, self).__init__()\n",
        "        # Hidden units of the feed forward component\n",
        "        self.FFN_units = FFN_units\n",
        "        # Set the number of projectios or heads\n",
        "        self.n_heads = n_heads\n",
        "        # Dropout rate\n",
        "        self.dropout_rate = dropout_rate\n",
        "    \n",
        "    def build(self, input_shape):\n",
        "        self.d_model = input_shape[-1]\n",
        "        # Build the multihead layer\n",
        "        self.multi_head_attention = MultiHeadAttention(self.n_heads)\n",
        "        self.dropout_1 = layers.Dropout(rate=self.dropout_rate)\n",
        "        # Layer Normalization\n",
        "        self.norm_1 = layers.LayerNormalization(epsilon=1e-6)\n",
        "        # Fully connected feed forward layer\n",
        "        self.ffn1_relu = layers.Dense(units=self.FFN_units, activation=\"relu\")\n",
        "        self.ffn2 = layers.Dense(units=self.d_model)\n",
        "        self.dropout_2 = layers.Dropout(rate=self.dropout_rate)\n",
        "        # Layer normalization\n",
        "        self.norm_2 = layers.LayerNormalization(epsilon=1e-6)\n",
        "        \n",
        "    def call(self, inputs, mask, training):\n",
        "        # Forward pass of the multi-head attention\n",
        "        attention = self.multi_head_attention(inputs,\n",
        "                                              inputs,\n",
        "                                              inputs,\n",
        "                                              mask)\n",
        "        attention = self.dropout_1(attention, training=training)\n",
        "        # Call to the residual connection and layer normalization\n",
        "        attention = self.norm_1(attention + inputs)\n",
        "        # Call to the FC layer\n",
        "        outputs = self.ffn1_relu(attention)\n",
        "        outputs = self.ffn2(outputs)\n",
        "        outputs = self.dropout_2(outputs, training=training)\n",
        "        # Call to residual connection and the layer normalization\n",
        "        outputs = self.norm_2(outputs + attention)\n",
        "        \n",
        "        return outputs"
      ],
      "execution_count": null,
      "outputs": []
    },
    {
      "cell_type": "code",
      "metadata": {
        "id": "P-P92KeZih60"
      },
      "source": [
        "class Encoder(layers.Layer):\n",
        "    \n",
        "    def __init__(self,\n",
        "                 n_layers,\n",
        "                 FFN_units,\n",
        "                 n_heads,\n",
        "                 dropout_rate,\n",
        "                 vocab_size,\n",
        "                 d_model,\n",
        "                 name=\"encoder\"):\n",
        "        super(Encoder, self).__init__(name=name)\n",
        "        self.n_layers = n_layers\n",
        "        self.d_model = d_model\n",
        "        # The embedding layer\n",
        "        self.embedding = layers.Embedding(vocab_size, d_model)\n",
        "        # Positional encoding layer\n",
        "        self.pos_encoding = PositionalEncoding()\n",
        "        self.dropout = layers.Dropout(rate=dropout_rate)\n",
        "        # Stack of n layers of multi-head attention and FC\n",
        "        self.enc_layers = [EncoderLayer(FFN_units,\n",
        "                                        n_heads,\n",
        "                                        dropout_rate) \n",
        "                           for _ in range(n_layers)]\n",
        "    \n",
        "    def call(self, inputs, mask, training):\n",
        "        # Get the embedding vectors\n",
        "        outputs = self.embedding(inputs)\n",
        "        # Scale the embeddings by sqrt of d_model\n",
        "        outputs *= tf.math.sqrt(tf.cast(self.d_model, tf.float32))\n",
        "        # Positional encodding\n",
        "        outputs = self.pos_encoding(outputs)\n",
        "        outputs = self.dropout(outputs, training)\n",
        "        # Call the stacked layers\n",
        "        for i in range(self.n_layers):\n",
        "            outputs = self.enc_layers[i](outputs, mask, training)\n",
        "\n",
        "        return outputs"
      ],
      "execution_count": null,
      "outputs": []
    },
    {
      "cell_type": "markdown",
      "metadata": {
        "id": "7DthraBEwuvl"
      },
      "source": [
        "# The Decoder\n",
        "\n",
        "The decoder share some components with the encoder but they are used in a different way to take into account the encoder output.\n",
        "\n",
        "- Positional encoding: Similar that the one in the encoder\n",
        "- N=6 identical layers, containing 3 three sublayers. First, the Masked Multi-head attention or **masked causal attention** to prevent positions from attending to subsequent positions, hiding those features that belong to future states of the sequence. \"This masking, combined with fact that the output embeddings are offset by one position, ensures that the predictions for position i can depend only on the known outputs at positions less than i\" [1]. It is implemented setting to −∞ the values corresponding to the forbidden states in the softmax layer of the dot-product attention modules. The second component or **\"encoder-decoder attention\"** performs multi-head attention over the output of the decoder, the Key and Value vectors come from the output of the encoder but the queries come from the previous decoder layer. *This allows every position in the decoder to attend over all positions in the input sequence* [1]. And finally the fully-connected network.\n",
        "\n",
        "- The residual connection and layer normalization around each sub-layer, similar to the encoder.\n",
        "\n",
        "![Alt](images/decoder.PNG \"title \"The Ilustrated Transformer\" by Jay Alammar\")\n",
        "\n",
        "At the end of the N stacked decoders, the **linear layer**, a fully-connected network, transforms the stacked outputs to a much larger vector, the *logits*. The **softmax layer** then turns those scores (logits) into probabilities (all positive, all add up to 1.0). The cell with the highest probability is chosen, and the word associated with it is produced as the output for this time step.\n"
      ]
    },
    {
      "cell_type": "code",
      "metadata": {
        "id": "7ZWZyFBnwy8u"
      },
      "source": [
        "class DecoderLayer(layers.Layer):\n",
        "    \n",
        "    def __init__(self, FFN_units, n_heads, dropout_rate):\n",
        "        super(DecoderLayer, self).__init__()\n",
        "        self.FFN_units = FFN_units\n",
        "        self.n_heads = n_heads\n",
        "        self.dropout_rate = dropout_rate\n",
        "    \n",
        "    def build(self, input_shape):\n",
        "        self.d_model = input_shape[-1]\n",
        "        \n",
        "        # Self multi head attention, causal attention\n",
        "        self.multi_head_causal_attention = MultiHeadAttention(self.n_heads)\n",
        "        self.dropout_1 = layers.Dropout(rate=self.dropout_rate)\n",
        "        self.norm_1 = layers.LayerNormalization(epsilon=1e-6)\n",
        "        \n",
        "        # Multi head attention, encoder-decoder attention \n",
        "        self.multi_head_enc_dec_attention = MultiHeadAttention(self.n_heads)\n",
        "        self.dropout_2 = layers.Dropout(rate=self.dropout_rate)\n",
        "        self.norm_2 = layers.LayerNormalization(epsilon=1e-6)\n",
        "        \n",
        "        # Feed foward\n",
        "        self.ffn1_relu = layers.Dense(units=self.FFN_units,\n",
        "                                    activation=\"relu\")\n",
        "        self.ffn2 = layers.Dense(units=self.d_model)\n",
        "        self.dropout_3 = layers.Dropout(rate=self.dropout_rate)\n",
        "        self.norm_3 = layers.LayerNormalization(epsilon=1e-6)\n",
        "        \n",
        "    def call(self, inputs, enc_outputs, mask_1, mask_2, training):\n",
        "        # Call the masked causal attention\n",
        "        attention = self.multi_head_causal_attention(inputs,\n",
        "                                                inputs,\n",
        "                                                inputs,\n",
        "                                                mask_1)\n",
        "        attention = self.dropout_1(attention, training)\n",
        "        # Residual connection and layer normalization\n",
        "        attention = self.norm_1(attention + inputs)\n",
        "        # Call the encoder-decoder attention\n",
        "        attention_2 = self.multi_head_enc_dec_attention(attention,\n",
        "                                                  enc_outputs,\n",
        "                                                  enc_outputs,\n",
        "                                                  mask_2)\n",
        "        attention_2 = self.dropout_2(attention_2, training)\n",
        "        # Residual connection and layer normalization\n",
        "        attention_2 = self.norm_2(attention_2 + attention)\n",
        "        # Call the Feed forward\n",
        "        outputs = self.ffn1_relu(attention_2)\n",
        "        outputs = self.ffn2(outputs)\n",
        "        outputs = self.dropout_3(outputs, training)\n",
        "        # Residual connection and layer normalization\n",
        "        outputs = self.norm_3(outputs + attention_2)\n",
        "        \n",
        "        return outputs"
      ],
      "execution_count": null,
      "outputs": []
    },
    {
      "cell_type": "code",
      "metadata": {
        "id": "kpzdiWHiwywF"
      },
      "source": [
        "class Decoder(layers.Layer):\n",
        "    \n",
        "    def __init__(self,\n",
        "                 n_layers,\n",
        "                 FFN_units,\n",
        "                 n_heads,\n",
        "                 dropout_rate,\n",
        "                 vocab_size,\n",
        "                 d_model,\n",
        "                 name=\"decoder\"):\n",
        "        super(Decoder, self).__init__(name=name)\n",
        "        self.d_model = d_model\n",
        "        self.n_layers = n_layers\n",
        "        # Embedding layer\n",
        "        self.embedding = layers.Embedding(vocab_size, d_model)\n",
        "        # Positional encoding layer\n",
        "        self.pos_encoding = PositionalEncoding()\n",
        "        self.dropout = layers.Dropout(rate=dropout_rate)\n",
        "        # Stacked layers of multi-head attention and feed forward\n",
        "        self.dec_layers = [DecoderLayer(FFN_units,\n",
        "                                        n_heads,\n",
        "                                        dropout_rate) \n",
        "                           for _ in range(n_layers)]\n",
        "    \n",
        "    def call(self, inputs, enc_outputs, mask_1, mask_2, training):\n",
        "        # Get the embedding vectors\n",
        "        outputs = self.embedding(inputs)\n",
        "        # Scale by sqrt of d_model\n",
        "        outputs *= tf.math.sqrt(tf.cast(self.d_model, tf.float32))\n",
        "        # Positional encodding\n",
        "        outputs = self.pos_encoding(outputs)\n",
        "        outputs = self.dropout(outputs, training)\n",
        "        # Call the stacked layers\n",
        "        for i in range(self.n_layers):\n",
        "            outputs = self.dec_layers[i](outputs,\n",
        "                                         enc_outputs,\n",
        "                                         mask_1,\n",
        "                                         mask_2,\n",
        "                                         training)\n",
        "\n",
        "        return outputs"
      ],
      "execution_count": null,
      "outputs": []
    },
    {
      "cell_type": "markdown",
      "metadata": {
        "id": "x5sJYkjbz5DD"
      },
      "source": [
        "# Transformer\n",
        "\n",
        "Once we have defined our components and created the encoder, the decoder and the linear-softmax final layer, we join the pieces to form our model, the Transformer.\n",
        "\n",
        "![Alt](images/transformer_architecture.PNG \"title \"Attention is all you need\" paper\")"
      ]
    },
    {
      "cell_type": "code",
      "metadata": {
        "id": "GqvqNjJPwyh-"
      },
      "source": [
        "class Transformer(tf.keras.Model):\n",
        "    \n",
        "    def __init__(self,\n",
        "                 vocab_size_enc,\n",
        "                 vocab_size_dec,\n",
        "                 d_model,\n",
        "                 n_layers,\n",
        "                 FFN_units,\n",
        "                 n_heads,\n",
        "                 dropout_rate,\n",
        "                 name=\"transformer\"):\n",
        "        super(Transformer, self).__init__(name=name)\n",
        "        # Build the encoder\n",
        "        self.encoder = Encoder(n_layers,\n",
        "                               FFN_units,\n",
        "                               n_heads,\n",
        "                               dropout_rate,\n",
        "                               vocab_size_enc,\n",
        "                               d_model)\n",
        "        # Build the decoder\n",
        "        self.decoder = Decoder(n_layers,\n",
        "                               FFN_units,\n",
        "                               n_heads,\n",
        "                               dropout_rate,\n",
        "                               vocab_size_dec,\n",
        "                               d_model)\n",
        "        # build the linear transformation and softmax function\n",
        "        self.last_linear = layers.Dense(units=vocab_size_dec, name=\"lin_ouput\")\n",
        "    \n",
        "    def create_padding_mask(self, seq): #seq: (batch_size, seq_length)\n",
        "        # Create the mask for padding\n",
        "        mask = tf.cast(tf.math.equal(seq, 0), tf.float32)\n",
        "        return mask[:, tf.newaxis, tf.newaxis, :]\n",
        "\n",
        "    def create_look_ahead_mask(self, seq):\n",
        "        # Create the mask for the causal attention\n",
        "        seq_len = tf.shape(seq)[1]\n",
        "        look_ahead_mask = 1 - tf.linalg.band_part(tf.ones((seq_len, seq_len)), -1, 0)\n",
        "        return look_ahead_mask\n",
        "    \n",
        "    def call(self, enc_inputs, dec_inputs, training):\n",
        "        # Create the padding mask for the encoder\n",
        "        enc_mask = self.create_padding_mask(enc_inputs)\n",
        "        # Create the mask for the causal attention\n",
        "        dec_mask_1 = tf.maximum(\n",
        "            self.create_padding_mask(dec_inputs),\n",
        "            self.create_look_ahead_mask(dec_inputs)\n",
        "        )\n",
        "        # Create the mask for the encoder-decoder attention\n",
        "        dec_mask_2 = self.create_padding_mask(enc_inputs)\n",
        "        # Call the encoder\n",
        "        enc_outputs = self.encoder(enc_inputs, enc_mask, training)\n",
        "        # Call the decoder\n",
        "        dec_outputs = self.decoder(dec_inputs,\n",
        "                                   enc_outputs,\n",
        "                                   dec_mask_1,\n",
        "                                   dec_mask_2,\n",
        "                                   training)\n",
        "        # Call the Linear and Softmax functions\n",
        "        outputs = self.last_linear(dec_outputs)\n",
        "        \n",
        "        return outputs"
      ],
      "execution_count": null,
      "outputs": []
    },
    {
      "cell_type": "markdown",
      "metadata": {
        "id": "4XdnNmy_uEfE"
      },
      "source": [
        "It is worth mentioning that we create 3 masks, each of which will allow us:\n",
        "- *Encoder mask*: It is a padding mask to discard the pad tokens from the attention calculation.\n",
        "- *Decoder mask 1*: this mask is a union of the padding mask and the look ahead mask which will help the causal attention to discard the tokens \"in the future\". We take the maximum value between the padding mask and the look ahead one.\n",
        "- *Decoder mask 2*: it is the padding mask and is applied in the encoder-decoder attention layer.\n",
        "\n",
        "As you can see then we call the encoder, the decoder and the final linear-softmax layer to get the predicted output from our Transformer model."
      ]
    },
    {
      "cell_type": "markdown",
      "metadata": {
        "id": "-c-LRThUPrso"
      },
      "source": [
        "# Training the Transformer model\n",
        "Now that we have described in detail the components in the paper we are ready to implement them and train a transformer model on a NMT problem. It is a toy problem for educational purposes.\n",
        "\n",
        "We need to create a custom loss function to mask the padding tokens and we define the Adam optimizer described in the paper, with beta1 = 0.9, beta2 = 0.98 and epsilon= 10e-9. And then we create a scheduler to vary the learning rate over the training process according to:\n",
        "\n",
        "$lrate = d_{model}^{-0.5}*min(step\\_num^{-0.5}, step\\_num*warmup\\_steps^{-1.5})$\n"
      ]
    },
    {
      "cell_type": "code",
      "metadata": {
        "id": "AM6zndzkAxC0"
      },
      "source": [
        "def loss_function(target, pred):\n",
        "    mask = tf.math.logical_not(tf.math.equal(target, 0))\n",
        "    loss_ = loss_object(target, pred)\n",
        "    \n",
        "    mask = tf.cast(mask, dtype=loss_.dtype)\n",
        "    loss_ *= mask\n",
        "    \n",
        "    return tf.reduce_mean(loss_)\n",
        "\n",
        "class CustomSchedule(tf.keras.optimizers.schedules.LearningRateSchedule):\n",
        "    \n",
        "    def __init__(self, d_model, warmup_steps=4000):\n",
        "        super(CustomSchedule, self).__init__()\n",
        "        \n",
        "        self.d_model = tf.cast(d_model, tf.float32)\n",
        "        self.warmup_steps = warmup_steps\n",
        "    \n",
        "    def __call__(self, step):\n",
        "        arg1 = tf.math.rsqrt(step)\n",
        "        arg2 = step * (self.warmup_steps**-1.5)\n",
        "        \n",
        "        return tf.math.rsqrt(self.d_model) * tf.math.minimum(arg1, arg2)\n"
      ],
      "execution_count": null,
      "outputs": []
    },
    {
      "cell_type": "markdown",
      "metadata": {
        "id": "xGarg37Fo36b"
      },
      "source": [
        "And that's all, we have all the necessary elements to train our model using an usual loop for sequence-to-sequence tasks:\n",
        "- For every iteration on the batch generator that produce batch size inputs and outputs\n",
        "- Get the input sequence from 0 to length-1 and the actual outputs from 1 to length, the next word expected at every sequence step.\n",
        "- Call the transformer to get the predictions\n",
        "- Calculate the loss function between the real outputs and the predictions\n",
        "- Apply the gradients to update the weights in the model\n",
        "- Calculate the mean loss and the accuracy for the batch data\n",
        "- Show some results and save the model in every epoch"
      ]
    },
    {
      "cell_type": "code",
      "metadata": {
        "id": "lhFK5kUx602K"
      },
      "source": [
        "def main_train(dataset, transformer, n_epochs, print_every=50):\n",
        "  ''' Train the transformer model for n_epochs using the data generator dataset'''\n",
        "  losses = []\n",
        "  accuracies = []\n",
        "  # In every epoch\n",
        "  for epoch in range(n_epochs):\n",
        "    print(\"Starting epoch {}\".format(epoch+1))\n",
        "    start = time.time()\n",
        "    # Reset the losss and accuracy calculations\n",
        "    train_loss.reset_states()\n",
        "    train_accuracy.reset_states()\n",
        "    # Get a batch of inputs and targets\n",
        "    for (batch, (enc_inputs, targets)) in enumerate(dataset):\n",
        "        # Set the decoder inputs\n",
        "        dec_inputs = targets[:, :-1]\n",
        "        # Set the target outputs, right shifted\n",
        "        dec_outputs_real = targets[:, 1:]\n",
        "        with tf.GradientTape() as tape:\n",
        "            # Call the transformer and get the predicted output\n",
        "            predictions = transformer(enc_inputs, dec_inputs, True)\n",
        "            # Calculate the loss\n",
        "            loss = loss_function(dec_outputs_real, predictions)\n",
        "        # Update the weights and optimizer\n",
        "        gradients = tape.gradient(loss, transformer.trainable_variables)\n",
        "        optimizer.apply_gradients(zip(gradients, transformer.trainable_variables))\n",
        "        # Save and store the metrics\n",
        "        train_loss(loss)\n",
        "        train_accuracy(dec_outputs_real, predictions)\n",
        "        \n",
        "        if batch % print_every == 0:\n",
        "            losses.append(train_loss.result())\n",
        "            accuracies.append(train_accuracy.result())\n",
        "            print(\"Epoch {} Batch {} Loss {:.4f} Accuracy {:.4f}\".format(\n",
        "                epoch+1, batch, train_loss.result(), train_accuracy.result()))\n",
        "            \n",
        "    # Checkpoint the model on every epoch        \n",
        "    ckpt_save_path = ckpt_manager.save()\n",
        "    print(\"Saving checkpoint for epoch {} in {}\".format(epoch+1,\n",
        "                                                        ckpt_save_path))\n",
        "    print(\"Time for 1 epoch: {} secs\\n\".format(time.time() - start))\n",
        "\n",
        "  return losses, accuracies"
      ],
      "execution_count": null,
      "outputs": []
    },
    {
      "cell_type": "markdown",
      "metadata": {
        "id": "hLqH4ksXJHPu"
      },
      "source": [
        "Setting the hyperparameters and parameters of the model and training process:"
      ]
    },
    {
      "cell_type": "code",
      "metadata": {
        "id": "QGmrQfakTKUV"
      },
      "source": [
        "# Set hyperparamters for the model\n",
        "D_MODEL = 512 # 512\n",
        "N_LAYERS = 4 # 6\n",
        "FFN_UNITS = 512 # 2048\n",
        "N_HEADS = 8 # 8\n",
        "DROPOUT_RATE = 0.1 # 0.1\n"
      ],
      "execution_count": null,
      "outputs": []
    },
    {
      "cell_type": "markdown",
      "metadata": {
        "id": "0hCk9aUDqaMo"
      },
      "source": [
        "Now we define and create all the elements to train the model and evaluate it."
      ]
    },
    {
      "cell_type": "code",
      "metadata": {
        "id": "qiOdqQ5qPs8z"
      },
      "source": [
        "# Clean the session\n",
        "tf.keras.backend.clear_session()\n",
        "# Create the Transformer model\n",
        "transformer = Transformer(vocab_size_enc=num_words_inputs,\n",
        "                          vocab_size_dec=num_words_output,\n",
        "                          d_model=D_MODEL,\n",
        "                          n_layers=N_LAYERS,\n",
        "                          FFN_units=FFN_UNITS,\n",
        "                          n_heads=N_HEADS,\n",
        "                          dropout_rate=DROPOUT_RATE)\n",
        "\n",
        "# Define a categorical cross entropy loss\n",
        "loss_object = tf.keras.losses.SparseCategoricalCrossentropy(from_logits=True,\n",
        "                                                            reduction=\"none\")\n",
        "# Define a metric to store the mean loss of every epoch\n",
        "train_loss = tf.keras.metrics.Mean(name=\"train_loss\")\n",
        "# Define a matric to save the accuracy in every epoch\n",
        "train_accuracy = tf.keras.metrics.SparseCategoricalAccuracy(name=\"train_accuracy\")\n",
        "# Create the scheduler for learning rate decay\n",
        "leaning_rate = CustomSchedule(D_MODEL)\n",
        "# Create the Adam optimizer\n",
        "optimizer = tf.keras.optimizers.Adam(leaning_rate,\n",
        "                                     beta_1=0.9,\n",
        "                                     beta_2=0.98,\n",
        "                                     epsilon=1e-9)\n",
        "        "
      ],
      "execution_count": null,
      "outputs": []
    },
    {
      "cell_type": "markdown",
      "metadata": {
        "id": "wTgnNJbprCdT"
      },
      "source": [
        "It is very useful to checkpoint and save our model during training. Training can take a lot of time and we can restore the model for future training or use."
      ]
    },
    {
      "cell_type": "code",
      "metadata": {
        "id": "Nb_32PIU5Zkh",
        "colab": {
          "base_uri": "https://localhost:8080/"
        },
        "outputId": "72787d47-4501-47ad-afd5-cf355cf36d01"
      },
      "source": [
        "#Create the Checkpoint \n",
        "ckpt = tf.train.Checkpoint(transformer=transformer,\n",
        "                           optimizer=optimizer)\n",
        "\n",
        "ckpt_manager = tf.train.CheckpointManager(ckpt, \"/content/drive/MyDrive/Transform_NMT2\", max_to_keep=5)\n",
        "\n",
        "if ckpt_manager.latest_checkpoint:\n",
        "    ckpt.restore(ckpt_manager.latest_checkpoint)\n",
        "    print(\"Last checkpoint restored.\")"
      ],
      "execution_count": null,
      "outputs": [
        {
          "output_type": "stream",
          "text": [
            "Last checkpoint restored.\n"
          ],
          "name": "stdout"
        }
      ]
    },
    {
      "cell_type": "code",
      "metadata": {
        "id": "-uZM8zEesPgd"
      },
      "source": [
        ""
      ],
      "execution_count": null,
      "outputs": []
    },
    {
      "cell_type": "code",
      "metadata": {
        "id": "ND0NAyshNWHD"
      },
      "source": [
        "# # Train the model\n",
        "# losses, accuracies = main_train(dataset, transformer, EPOCHS, 100)"
      ],
      "execution_count": null,
      "outputs": []
    },
    {
      "cell_type": "markdown",
      "metadata": {
        "id": "wnfIU53_0oQi"
      },
      "source": [
        "# Make predictions\n",
        "\n",
        "We have seen the scores obtained after training but what we are interested in making predictions and see how the model works with new sentences. The predict function will input a tokenize sentence to the model and return the predicted new sentence, in our example, a translation from english to spanish. \n",
        "- Tokenize the input sentence to a sequence of tokens\n",
        "- Set the initial output sequence to the SOS token\n",
        "- Until we reach the max length or the eos token is returned by the model\n",
        "- Get the next word predicted. The model returns the logits, remember that the softmax function is applied in the loss calculation.\n",
        "- Get the index in the vocabulary of the word with the highest probability\n",
        "- Concat the next word predicted to the output sequence"
      ]
    },
    {
      "cell_type": "code",
      "metadata": {
        "id": "a6iJ7tPC-pk-"
      },
      "source": [
        "def predict(inp_sentence, tokenizer_in, tokenizer_out, target_max_len):\n",
        "    # Tokenize the input sequence using the tokenizer_in\n",
        "    inp_sentence = sos_token_input + tokenizer_in.encode(inp_sentence) + eos_token_input\n",
        "    enc_input = tf.expand_dims(inp_sentence, axis=0)\n",
        "\n",
        "    # Set the initial output sentence to sos\n",
        "    out_sentence = sos_token_output\n",
        "    # Reshape the output\n",
        "    output = tf.expand_dims(out_sentence, axis=0)\n",
        "\n",
        "    # For max target len tokens\n",
        "    for _ in range(target_max_len):\n",
        "        # Call the transformer and get the logits \n",
        "        predictions = transformer(enc_input, output, False) #(1, seq_length, VOCAB_SIZE_ES)\n",
        "        # Extract the logists of the next word\n",
        "        prediction = predictions[:, -1:, :]\n",
        "        # The highest probability is taken\n",
        "        predicted_id = tf.cast(tf.argmax(prediction, axis=-1), tf.int32)\n",
        "        # Check if it is the eos token\n",
        "        if predicted_id == eos_token_output:\n",
        "            return tf.squeeze(output, axis=0)\n",
        "        # Concat the predicted word to the output sequence\n",
        "        output = tf.concat([output, predicted_id], axis=-1)\n",
        "\n",
        "    return tf.squeeze(output, axis=0)"
      ],
      "execution_count": null,
      "outputs": []
    },
    {
      "cell_type": "markdown",
      "metadata": {
        "id": "ECKNvSxUqoow"
      },
      "source": [
        "And finally our last function receives a sentence in english, calls the transformer to translate it to spanish and shows the result"
      ]
    },
    {
      "cell_type": "code",
      "metadata": {
        "id": "s6VeFKrE6Kdx"
      },
      "source": [
        "def translate(sentence):\n",
        "    # Get the predicted sequence for the input sentence\n",
        "    output = predict(sentence, tokenizer_inputs, tokenizer_outputs, MAX_LENGTH).numpy()\n",
        "    # Transform the sequence of tokens to a sentence\n",
        "    predicted_sentence = tokenizer_outputs.decode(\n",
        "        [i for i in output if i < sos_token_output]\n",
        "    )\n",
        "\n",
        "    return predicted_sentence"
      ],
      "execution_count": null,
      "outputs": []
    },
    {
      "cell_type": "code",
      "metadata": {
        "id": "F7XyQ2lpN_VB"
      },
      "source": [
        "def wer_score(hyp, ref, print_matrix=False):\n",
        "  N = len(hyp)\n",
        "  M = len(ref)\n",
        "  L = np.zeros((N,M))\n",
        "  for i in range(0, N):\n",
        "    for j in range(0, M):\n",
        "      if min(i,j) == 0:\n",
        "        L[i,j] = max(i,j)\n",
        "      else:\n",
        "        deletion = L[i-1,j] + 1\n",
        "        insertion = L[i,j-1] + 1\n",
        "        sub = 1 if hyp[i] != ref[j] else 0\n",
        "        substitution = L[i-1,j-1] + sub\n",
        "        L[i,j] = min(deletion, min(insertion, substitution))\n",
        "        # print(\"{} - {}: del {} ins {} sub {} s {}\".format(hyp[i], ref[j], deletion, insertion, substitution, sub))\n",
        "  if print_matrix:\n",
        "    print(\"WER matrix ({}x{}): \".format(N, M))\n",
        "    print(L)\n",
        "  return int(L[N-1, M-1])"
      ],
      "execution_count": null,
      "outputs": []
    },
    {
      "cell_type": "markdown",
      "metadata": {
        "id": "EDtGeTvXokpb"
      },
      "source": [
        "First, we explore the predictions on sentences of our training dataset:"
      ]
    },
    {
      "cell_type": "code",
      "metadata": {
        "id": "k0I9rS5jdF6Y",
        "colab": {
          "base_uri": "https://localhost:8080/"
        },
        "outputId": "64097533-e6af-4a10-9544-0aca3acc06b9"
      },
      "source": [
        "\n",
        "from nltk.translate.nist_score import sentence_nist\n",
        "from nltk.translate.bleu_score import sentence_bleu\n",
        "from nltk.translate.gleu_score import sentence_gleu\n",
        "from nltk.translate.bleu_score import SmoothingFunction\n",
        "import sacrebleu\n",
        "smoothie = SmoothingFunction().method4\n",
        "bleu = np.zeros(30)\n",
        "gleu = np.zeros(30)\n",
        "wer = np.zeros(30)\n",
        "num = np.zeros(30)\n",
        "for i in range(0,len(input_data_val)):\n",
        "  predicted = translate(input_data_val[i])\n",
        "  count = len(input_data_val[i].split())\n",
        "  # target_data_val = \"\"\n",
        "  # for i in target_tensor_val[i]:\n",
        "  #         if i == 0:\n",
        "  #             break\n",
        "  #         target_data_val = target_data_val + targ_lang.idx2word[i] + ' '\n",
        "  # target_data_val = target_data_val[8:-7]\n",
        "  # print(\"Required : \"+target_data_val)\n",
        "  # print(i)\n",
        "  # print(\"Required : \"+target_data_val[i])\n",
        "  # print(\"Predict : \"+predicted)\n",
        "  # bleu_score += list_bleu([target_data_val[i] + \" .\"] , [predicted + \" .\"])\n",
        "  # if (len(target_data_val[i].split()) < 5):\n",
        "  # nist2 += sentence_nist(target_data_val[i].split() , predicted.split() , n = 2)\n",
        "  num[count] += 1   \n",
        "  if (len(predicted.split()) == 1):\n",
        "    gleu[count] += 1\n",
        "    bleu[count] += 1 \n",
        "  else:\n",
        "    gleu[count] += sentence_gleu([target_data_val[i].split()] , predicted.split(), min_len=1, max_len=1)\n",
        "    bleu[count] +=  sentence_bleu(references=[target_data_val[i]] , hypothesis = predicted  , weights = (1,0,0,0))\n",
        "\n",
        "\n",
        "  # print(bleu_score/(i+1))\n",
        "  # nist1 += sentence_nist([target_data_val[i].split()] , predicted.split(), n = 4 )\n",
        "  # print(gleu/(i+1))\n",
        "  if (len(predicted.split()) < 12):\n",
        "    wer[count] += wer_score(target_data_val[i].split() , predicted.split())\n",
        "  else:\n",
        "    wer[count] += wer_score(target_data_val[i].split()[0:12] , predicted.split()[0:12])\n",
        "  print(i)\n"
      ],
      "execution_count": null,
      "outputs": [
        {
          "output_type": "stream",
          "text": [
            "/usr/local/lib/python3.7/dist-packages/nltk/translate/bleu_score.py:490: UserWarning: \n",
            "Corpus/Sentence contains 0 counts of 4-gram overlaps.\n",
            "BLEU scores might be undesirable; use SmoothingFunction().\n",
            "  warnings.warn(_msg)\n"
          ],
          "name": "stderr"
        },
        {
          "output_type": "stream",
          "text": [
            "0\n",
            "1\n",
            "2\n",
            "3\n",
            "4\n",
            "5\n",
            "6\n",
            "7\n",
            "8\n",
            "9\n",
            "10\n"
          ],
          "name": "stdout"
        },
        {
          "output_type": "stream",
          "text": [
            "/usr/local/lib/python3.7/dist-packages/nltk/translate/bleu_score.py:490: UserWarning: \n",
            "Corpus/Sentence contains 0 counts of 3-gram overlaps.\n",
            "BLEU scores might be undesirable; use SmoothingFunction().\n",
            "  warnings.warn(_msg)\n"
          ],
          "name": "stderr"
        },
        {
          "output_type": "stream",
          "text": [
            "11\n",
            "12\n",
            "13\n",
            "14\n",
            "15\n",
            "16\n",
            "17\n",
            "18\n",
            "19\n",
            "20\n",
            "21\n",
            "22\n",
            "23\n",
            "24\n",
            "25\n",
            "26\n",
            "27\n",
            "28\n",
            "29\n",
            "30\n",
            "31\n",
            "32\n",
            "33\n",
            "34\n",
            "35\n",
            "36\n",
            "37\n",
            "38\n",
            "39\n",
            "40\n",
            "41\n",
            "42\n",
            "43\n",
            "44\n",
            "45\n",
            "46\n",
            "47\n",
            "48\n",
            "49\n",
            "50\n",
            "51\n",
            "52\n",
            "53\n",
            "54\n",
            "55\n",
            "56\n",
            "57\n",
            "58\n",
            "59\n",
            "60\n",
            "61\n",
            "62\n",
            "63\n",
            "64\n",
            "65\n",
            "66\n",
            "67\n",
            "68\n",
            "69\n",
            "70\n"
          ],
          "name": "stdout"
        },
        {
          "output_type": "stream",
          "text": [
            "/usr/local/lib/python3.7/dist-packages/nltk/translate/bleu_score.py:490: UserWarning: \n",
            "Corpus/Sentence contains 0 counts of 2-gram overlaps.\n",
            "BLEU scores might be undesirable; use SmoothingFunction().\n",
            "  warnings.warn(_msg)\n"
          ],
          "name": "stderr"
        },
        {
          "output_type": "stream",
          "text": [
            "71\n",
            "72\n",
            "73\n",
            "74\n",
            "75\n",
            "76\n",
            "77\n",
            "78\n",
            "79\n",
            "80\n",
            "81\n",
            "82\n",
            "83\n",
            "84\n",
            "85\n",
            "86\n",
            "87\n",
            "88\n",
            "89\n",
            "90\n",
            "91\n",
            "92\n",
            "93\n",
            "94\n",
            "95\n",
            "96\n",
            "97\n",
            "98\n",
            "99\n",
            "100\n",
            "101\n",
            "102\n",
            "103\n",
            "104\n",
            "105\n",
            "106\n",
            "107\n",
            "108\n",
            "109\n",
            "110\n",
            "111\n",
            "112\n",
            "113\n",
            "114\n",
            "115\n",
            "116\n",
            "117\n",
            "118\n",
            "119\n",
            "120\n",
            "121\n",
            "122\n",
            "123\n",
            "124\n",
            "125\n",
            "126\n",
            "127\n",
            "128\n",
            "129\n",
            "130\n",
            "131\n",
            "132\n",
            "133\n",
            "134\n",
            "135\n",
            "136\n",
            "137\n",
            "138\n",
            "139\n",
            "140\n",
            "141\n",
            "142\n",
            "143\n",
            "144\n",
            "145\n",
            "146\n",
            "147\n",
            "148\n",
            "149\n",
            "150\n",
            "151\n",
            "152\n",
            "153\n",
            "154\n",
            "155\n",
            "156\n",
            "157\n",
            "158\n",
            "159\n",
            "160\n",
            "161\n",
            "162\n",
            "163\n",
            "164\n",
            "165\n",
            "166\n",
            "167\n",
            "168\n",
            "169\n",
            "170\n",
            "171\n",
            "172\n",
            "173\n",
            "174\n",
            "175\n",
            "176\n",
            "177\n",
            "178\n",
            "179\n",
            "180\n",
            "181\n",
            "182\n",
            "183\n",
            "184\n",
            "185\n",
            "186\n",
            "187\n",
            "188\n",
            "189\n",
            "190\n",
            "191\n",
            "192\n",
            "193\n",
            "194\n",
            "195\n",
            "196\n",
            "197\n",
            "198\n",
            "199\n",
            "200\n",
            "201\n",
            "202\n",
            "203\n",
            "204\n",
            "205\n",
            "206\n",
            "207\n",
            "208\n",
            "209\n",
            "210\n",
            "211\n",
            "212\n",
            "213\n",
            "214\n",
            "215\n",
            "216\n",
            "217\n",
            "218\n",
            "219\n",
            "220\n",
            "221\n",
            "222\n",
            "223\n",
            "224\n",
            "225\n",
            "226\n",
            "227\n",
            "228\n",
            "229\n",
            "230\n",
            "231\n",
            "232\n",
            "233\n",
            "234\n",
            "235\n",
            "236\n",
            "237\n",
            "238\n",
            "239\n",
            "240\n",
            "241\n",
            "242\n",
            "243\n",
            "244\n",
            "245\n",
            "246\n",
            "247\n",
            "248\n",
            "249\n",
            "250\n",
            "251\n",
            "252\n",
            "253\n",
            "254\n",
            "255\n",
            "256\n",
            "257\n",
            "258\n",
            "259\n",
            "260\n",
            "261\n",
            "262\n",
            "263\n",
            "264\n",
            "265\n",
            "266\n",
            "267\n",
            "268\n",
            "269\n",
            "270\n",
            "271\n",
            "272\n",
            "273\n",
            "274\n",
            "275\n",
            "276\n",
            "277\n",
            "278\n",
            "279\n",
            "280\n",
            "281\n",
            "282\n",
            "283\n",
            "284\n",
            "285\n",
            "286\n",
            "287\n",
            "288\n",
            "289\n",
            "290\n",
            "291\n",
            "292\n",
            "293\n",
            "294\n",
            "295\n",
            "296\n",
            "297\n",
            "298\n",
            "299\n",
            "300\n",
            "301\n",
            "302\n",
            "303\n",
            "304\n",
            "305\n",
            "306\n",
            "307\n",
            "308\n",
            "309\n",
            "310\n",
            "311\n",
            "312\n",
            "313\n",
            "314\n",
            "315\n",
            "316\n",
            "317\n",
            "318\n",
            "319\n",
            "320\n",
            "321\n",
            "322\n",
            "323\n",
            "324\n",
            "325\n",
            "326\n",
            "327\n",
            "328\n",
            "329\n",
            "330\n",
            "331\n",
            "332\n",
            "333\n",
            "334\n",
            "335\n",
            "336\n",
            "337\n",
            "338\n",
            "339\n",
            "340\n",
            "341\n",
            "342\n",
            "343\n",
            "344\n",
            "345\n",
            "346\n",
            "347\n",
            "348\n",
            "349\n",
            "350\n",
            "351\n",
            "352\n",
            "353\n",
            "354\n",
            "355\n",
            "356\n",
            "357\n",
            "358\n",
            "359\n",
            "360\n",
            "361\n",
            "362\n",
            "363\n",
            "364\n",
            "365\n",
            "366\n",
            "367\n",
            "368\n",
            "369\n",
            "370\n",
            "371\n",
            "372\n",
            "373\n",
            "374\n",
            "375\n",
            "376\n",
            "377\n",
            "378\n",
            "379\n",
            "380\n",
            "381\n",
            "382\n",
            "383\n",
            "384\n",
            "385\n",
            "386\n",
            "387\n",
            "388\n",
            "389\n",
            "390\n",
            "391\n",
            "392\n",
            "393\n",
            "394\n",
            "395\n",
            "396\n",
            "397\n",
            "398\n",
            "399\n",
            "400\n",
            "401\n",
            "402\n",
            "403\n",
            "404\n"
          ],
          "name": "stdout"
        }
      ]
    },
    {
      "cell_type": "code",
      "metadata": {
        "id": "a2VsMIre3Bjj"
      },
      "source": [
        "gleu = [ 0.        ,  2.33333333, 10.84166667, 38.13162393, 44.4847583 ,\n",
        "       39.89896012, 22.32292707, 13.32208625,  6.49157732,  4.14405594,\n",
        "        0.64545455,  0.30769231,  0.44813187,  0.6       ,  0.69747899,\n",
        "        0.        ,  0.        ,  0.        ,  0.        ,  0.        ,\n",
        "        0.        ,  0.        ,  0.        ,  0.        ,  0.        ,\n",
        "        0.        ,  0.        ,  0.        ,  0.        ,  0.        ]\n"
      ],
      "execution_count": null,
      "outputs": []
    },
    {
      "cell_type": "code",
      "metadata": {
        "id": "9EnGCz4U5YLu"
      },
      "source": [
        "bleu = [ 0.        ,  4.29237417, 22.50601851, 49.39225155, 58.08817332,\n",
        "       56.38486877, 33.55299937, 20.53996786, 11.40508213,  7.1082805 ,\n",
        "        1.18036344,  0.5264927 ,  1.20357685,  0.76242123,  1.08316853,\n",
        "        0.        ,  0.        ,  0.        ,  0.        ,  0.        ,\n",
        "        0.        ,  0.        ,  0.        ,  0.        ,  0.        ,\n",
        "        0.        ,  0.        ,  0.        ,  0.        ,  0.        ]"
      ],
      "execution_count": null,
      "outputs": []
    },
    {
      "cell_type": "code",
      "metadata": {
        "id": "NhZtS8bG5jK6"
      },
      "source": [
        "wer = [  0.,   9.,  97., 155., 236., 335., 224., 159., 137.,  74.,  28.,\n",
        "        10.,  33.,   5.,  20.,   0.,   0.,   0.,   0.,   0.,   0.,   0.,\n",
        "         0.,   0.,   0.,   0.,   0.,   0.,   0.,   0.]"
      ],
      "execution_count": null,
      "outputs": []
    },
    {
      "cell_type": "code",
      "metadata": {
        "id": "sw9nl2a15sZJ"
      },
      "source": [
        "num = [ 0.,  7., 38., 70., 83., 85., 51., 31., 19., 11.,  3.,  1.,  3.,\n",
        "        1.,  2.,  0.,  0.,  0.,  0.,  0.,  0.,  0.,  0.,  0.,  0.,  0.,\n",
        "        0.,  0.,  0.,  0.]"
      ],
      "execution_count": null,
      "outputs": []
    },
    {
      "cell_type": "code",
      "metadata": {
        "id": "SNr-Qz5IR9Lp"
      },
      "source": [
        "for i in range(1,15):\n",
        "  bleu[i] = (bleu[i] / num[i])*100\n",
        "  gleu[i] = (gleu[i] / num[i])*100\n",
        "  wer[i] /= num[i]"
      ],
      "execution_count": null,
      "outputs": []
    },
    {
      "cell_type": "code",
      "metadata": {
        "id": "5q6mrWrzeRX2",
        "colab": {
          "base_uri": "https://localhost:8080/"
        },
        "outputId": "21156217-1502-4f0f-d3c5-77592a53bbdc"
      },
      "source": [
        "bleu = [0.0,\n",
        " 61.31963100000001,\n",
        " 59.2263645,\n",
        " 70.56035935714286,\n",
        " 69.98575098795182,\n",
        " 66.33513972941176,\n",
        " 65.79019484313726,\n",
        " 66.25796083870968,\n",
        " 60.02674805263158,\n",
        " 64.62073181818182,\n",
        " 39.345448,\n",
        " 52.64927,\n",
        " 40.11922833333333]\n",
        "avg_bleu = 59.686402288375014"
      ],
      "execution_count": null,
      "outputs": [
        {
          "output_type": "execute_result",
          "data": {
            "text/plain": [
              "59.686402288375014"
            ]
          },
          "metadata": {
            "tags": []
          },
          "execution_count": 65
        }
      ]
    },
    {
      "cell_type": "code",
      "metadata": {
        "id": "GvM5uAtGcmHN"
      },
      "source": [
        "gleu = [0.0,\n",
        " 33.33333328571428,\n",
        " 28.530701763157897,\n",
        " 54.47374847142857,\n",
        " 53.5960943373494,\n",
        " 46.939953082352936,\n",
        " 43.77044523529411,\n",
        " 42.974471774193546,\n",
        " 34.16619642105263,\n",
        " 37.67323581818182,\n",
        " 21.515151666666664,\n",
        " 30.769231,\n",
        " 14.937729]\n",
        "avg_gleu = 39.697333185539186"
      ],
      "execution_count": null,
      "outputs": []
    },
    {
      "cell_type": "code",
      "metadata": {
        "colab": {
          "base_uri": "https://localhost:8080/"
        },
        "id": "xPd_RK7OhDLE",
        "outputId": "f480173b-e5f4-47d5-abe3-d4d04c03f492"
      },
      "source": [
        "wer = [0.0,\n",
        " 0.2857142857142858,\n",
        " 1.5526315789473686,\n",
        " 1.2142857142857144,\n",
        " 1.8433734939759034,\n",
        " 2.9411764705882355,\n",
        " 3.392156862745098,\n",
        " 5.129032258064516,\n",
        " 7.2105263157894735,\n",
        " 6.7272727272727275,\n",
        " 9.333333333333334,\n",
        " 10.0,\n",
        " 11.0]\n",
        "avg_wer = 5.052458586726388"
      ],
      "execution_count": null,
      "outputs": [
        {
          "output_type": "execute_result",
          "data": {
            "text/plain": [
              "5.052458586726388"
            ]
          },
          "metadata": {
            "tags": []
          },
          "execution_count": 61
        }
      ]
    },
    {
      "cell_type": "code",
      "metadata": {
        "id": "NcrNsi4HhU9Q"
      },
      "source": [
        "metrics = [59.68,39.69,6.05]"
      ],
      "execution_count": null,
      "outputs": []
    }
  ]
}